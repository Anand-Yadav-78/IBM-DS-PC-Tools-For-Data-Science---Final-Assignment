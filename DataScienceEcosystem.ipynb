{
  "cells": [
    {
      "cell_type": "markdown",
      "metadata": {
        "id": "zL59bFEDb1j_"
      },
      "source": [
        "<center>\n",
        "    <img src=\"https://cf-courses-data.s3.us.cloud-object-storage.appdomain.cloud/IBMDeveloperSkillsNetwork-DS0105EN-SkillsNetwork/labs/Module2/images/SN_web_lightmode.png\" width=\"300\" alt=\"cognitiveclass.ai logo\">\n",
        "</center>\n"
      ]
    },
    {
      "cell_type": "markdown",
      "metadata": {
        "id": "twkSoVTUb1kB"
      },
      "source": [
        "#### Add your code below following the instructions given in the course\n"
      ]
    },
    {
      "cell_type": "markdown",
      "source": [
        "Exercise 2: Create markdown cell with title of the notebook\n",
        "\n",
        "Create a markdown cell with the title Data Science Tools and Ecosystem using H1 style heading.\n",
        "Take a screenshot of the markdown cell and name it as 2-title.png<br> (Images can be saved with either the .jpg or .png extension.)"
      ],
      "metadata": {
        "id": "skZJJK2bceW2"
      }
    },
    {
      "cell_type": "markdown",
      "source": [
        "# Data Science Tools and Ecosystem"
      ],
      "metadata": {
        "id": "7NeevVS0cR6m"
      }
    },
    {
      "cell_type": "markdown",
      "source": [
        "Exercise 3 - Create a markdown cell for an introduction\n",
        "\n",
        "Write an introductory sentence about the notebook such as the follows:\n",
        "\n",
        "In this notebook, Data Science Tools and Ecosystem are summarized.\n",
        "Take a screenshot of the markdown cell and name it as 3-intro.png<br> (Images can be saved with either the .jpg or .png extension.)"
      ],
      "metadata": {
        "id": "Hlm6dKBqd4nM"
      }
    },
    {
      "cell_type": "markdown",
      "source": [
        "**_Description:- In this notebook, Data Science Tools and Ecosystem are summarized._**"
      ],
      "metadata": {
        "id": "oAZApSaIeBP9"
      }
    },
    {
      "cell_type": "markdown",
      "source": [
        "Exercise 10 - Insert a markdown cell to list Objectives\n",
        "\n",
        "**Below** the introduction cell created in **Exercise 3**, insert a new markdown cell to list the objectives that this notebook covered (i.e. some of the key takeaways from the course).<br> In this new cell start with an introductory line titled: Objectives: in bold font.<br> Then using an unordered list (bullets) indicate 3 to 5 items covered in this notebook, such as List popular languages for Data Science.<br><br>\n",
        "Take a screenshot of the markdown cell and name it as 10-objectives.png<br> (Images can be saved with either the .jpg or .png extension.)"
      ],
      "metadata": {
        "id": "UokZp8Q8n1i3"
      }
    },
    {
      "cell_type": "markdown",
      "source": [
        "**Objectives:**\n",
        "\n",
        "+ List popular languages for Daata Science\n",
        "+ List popular libraries used for Data Science\n",
        "+ List popular tools used for Data Science\n",
        "+ Learn to use the markdown cell operations\n",
        "+ Learn to use the code cell operations\n",
        "+ Learn to evaluate arithmetic expressions\n"
      ],
      "metadata": {
        "id": "yqjZaiXun5JV"
      }
    },
    {
      "cell_type": "markdown",
      "source": [
        "Exercise 4 - Create a markdown cell to list data science languages\n",
        "\n",
        "Start the cell with an overview line such as:\n",
        "\n",
        "Some of the popular languages that Data Scientists use are:<br>\n",
        "Then create an ordered list (i.e. numbered) listing 3 (or more) commonly used languages for data science.<br>\n",
        "Take a screenshot of the markdown cell and name it as 4-dslanguages.png<br> (Images can be saved with either the .jpg or .png extension.)"
      ],
      "metadata": {
        "id": "7SF2swByfZVf"
      }
    },
    {
      "cell_type": "markdown",
      "source": [
        "**Some of the popular languages that Data Scientists use are:**\n",
        "\n",
        "\n",
        "\n",
        "1. Python\n",
        "2. R\n",
        "3. Julia\n",
        "4. Scala\n",
        "\n"
      ],
      "metadata": {
        "id": "PokfWr2IfnxH"
      }
    },
    {
      "cell_type": "markdown",
      "source": [
        "Exercise 5 - Create a markdown cell to list data science libraries\n",
        "\n",
        "Add an overview line to the cell like:\n",
        "\n",
        "Some of the commonly used libraries used by Data Scientists include:<br>\n",
        "Below this line add an ordered list listing 3 (or more) commonly used libraries in data science.<br>\n",
        "Take a screenshot of the markdown cell and name it as 5-dslibraries.png<br> (Images can be saved with either the .jpg or .png extension.)"
      ],
      "metadata": {
        "id": "RECxzFwZgju3"
      }
    },
    {
      "cell_type": "markdown",
      "source": [
        "**Some of the commonly used libraries used by Data Scientists include:**\n",
        "\n",
        "\n",
        "\n",
        "1. pandas\n",
        "2. numpy\n",
        "3. scikit-learn\n",
        "4. matplotlib\n",
        "5. seaborn\n",
        "\n"
      ],
      "metadata": {
        "id": "R6eq0xQtgtjH"
      }
    },
    {
      "cell_type": "markdown",
      "source": [
        "Exercise 6 - Create a markdown cell with a table of Data Science tools\n",
        "\n",
        "Create a single column table in this cell with the first row containing the header Data Science Tools. The subsequent three rows in the table should indicate three development environment open source tools used in data science.\n",
        "\n",
        "Take a screenshot of the markdown cell and name it as 6-dstools.png<br> (Images can be saved with either the .jpg or .png extension.)<br><br>\n",
        "Hint: Refer to Lab: Using Markdowns in Jupyter Notebooks to create a table."
      ],
      "metadata": {
        "id": "Ju8lTYgxiND4"
      }
    },
    {
      "cell_type": "markdown",
      "source": [
        "|Data Science Tools|\n",
        "--------------------\n",
        "|Jupyter Notebook|\n",
        "|R Studio|\n",
        "|VS Code|\n",
        "|Spyder|"
      ],
      "metadata": {
        "id": "hZKzELKEi62P"
      }
    },
    {
      "cell_type": "markdown",
      "source": [
        "Exercise 7 - Create a markdown cell introducing arithmetic expression examples\n",
        "\n",
        "Add a line in this cell with H3 style heading with text like:\n",
        "\n",
        "Below are a few examples of evaluating arithmetic expressions in Python.<br>\n",
        "Take a screenshot of the markdown cell and name it as 7-introarithmetic.png<br> (Images can be saved with either the .jpg or .png extension.)"
      ],
      "metadata": {
        "id": "T3kOBl-bjnwt"
      }
    },
    {
      "cell_type": "markdown",
      "source": [
        "### Below are a few examples of evaluating arithmetic expressions in Python."
      ],
      "metadata": {
        "id": "1GYkmFO9kF2_"
      }
    },
    {
      "cell_type": "markdown",
      "source": [
        "Exercise 8 - Create a code cell to multiply and add numbers\n",
        "\n",
        "In this code cell evaluate the expression (3*4)+5.<br>\n",
        "Insert a comment line before the expression to explain the operation e.g.<br>  This a simple arithmetic expression to mutiply then add integers.<br>\n",
        "Then execute the cell to ensure the expression returns the expected output of 17.<br><br>\n",
        "Take a screenshot of the code cell with output and name it as 8-multiplyandaddintegers.png<br> (Images can be saved with either the .jpg or .png extension.)"
      ],
      "metadata": {
        "id": "HDfr5kR-knKn"
      }
    },
    {
      "cell_type": "code",
      "execution_count": 1,
      "metadata": {
        "colab": {
          "base_uri": "https://localhost:8080/"
        },
        "id": "PFVf4virb1kC",
        "outputId": "a39404a4-dde8-44b9-9aa5-27a8cef160c3"
      },
      "outputs": [
        {
          "output_type": "execute_result",
          "data": {
            "text/plain": [
              "17"
            ]
          },
          "metadata": {},
          "execution_count": 1
        }
      ],
      "source": [
        "# This a simple arithmetic expression to mutiply then add integers.\n",
        "(3*4)+5"
      ]
    },
    {
      "cell_type": "markdown",
      "source": [
        "Exercise 9 - Create a code cell to convert minutes to hours\n",
        "\n",
        "In this code cell write an expression that converts 200 minutes into hours.<br>\n",
        "Insert a comment line before the expression to explain the operation e.g. <br> This will convert 200 minutes to hours by diving by 60.<br>\n",
        "Run the cell to evaluate the expression.<br><br>\n",
        "Take a screenshot of the code cell with output and name it as 9-hourstominutes.png<br> (Images can be saved with either the .jpg or .png extension.)"
      ],
      "metadata": {
        "id": "AW7ToWMjlff4"
      }
    },
    {
      "cell_type": "code",
      "source": [
        "# This will convert 200 minutes to hours by diving by 60.\n",
        "minute_value = 200\n",
        "minutes_to_hours = minute_value/60\n",
        "minutes_to_hours"
      ],
      "metadata": {
        "colab": {
          "base_uri": "https://localhost:8080/"
        },
        "id": "1LA65s4GlFNk",
        "outputId": "4c5d6890-845b-4cc8-c1c8-de4c02551c8b"
      },
      "execution_count": 4,
      "outputs": [
        {
          "output_type": "execute_result",
          "data": {
            "text/plain": [
              "3.3333333333333335"
            ]
          },
          "metadata": {},
          "execution_count": 4
        }
      ]
    },
    {
      "cell_type": "markdown",
      "source": [
        "Exercise 11 - Create a markdown cell to indicate the Author's name\n",
        "\n",
        "In this markdown cell markdown cell include the following text Author in H2 style heading.<br> Include your name as regular text below the word Author.<br><br>\n",
        "Take a screenshot of the markdown cell and name it as 11-authordetails.png (Images can be saved with either the .jpg or .png extension.)\n",
        "<br><br>\n",
        "Note: Save and download the notebook."
      ],
      "metadata": {
        "id": "Z5dyYlk4pJYu"
      }
    },
    {
      "cell_type": "markdown",
      "source": [
        "## **Author:**\n",
        "\n",
        "ANAND PESHKARSINGH YADAV"
      ],
      "metadata": {
        "id": "10n4xkGrpwHQ"
      }
    },
    {
      "cell_type": "code",
      "source": [],
      "metadata": {
        "id": "cJmd5Ty3mQRy"
      },
      "execution_count": null,
      "outputs": []
    }
  ],
  "metadata": {
    "kernelspec": {
      "display_name": "Python",
      "language": "python",
      "name": "conda-env-python-py"
    },
    "language_info": {
      "name": ""
    },
    "colab": {
      "provenance": []
    }
  },
  "nbformat": 4,
  "nbformat_minor": 0
}